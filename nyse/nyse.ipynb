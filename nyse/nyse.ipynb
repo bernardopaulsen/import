{
 "cells": [
  {
   "cell_type": "code",
   "execution_count": 1,
   "metadata": {},
   "outputs": [],
   "source": [
    "from selenium import webdriver\n",
    "from selenium.webdriver.chrome.options import Options\n",
    "from selenium.webdriver.common.by import By\n",
    "from selenium.webdriver.common.keys import Keys\n",
    "from selenium.webdriver.support import expected_conditions as EC\n",
    "from selenium.webdriver.support.ui import WebDriverWait\n",
    "import time\n",
    "import pickle\n",
    "import dill"
   ]
  },
  {
   "cell_type": "raw",
   "metadata": {},
   "source": [
    "tickers = []\n",
    "options = Options()\n",
    "options.add_argument('--headless')\n",
    "letters = ['A','B','C','D','E','F','G','H','I','J','K','L','M','N','O','P','Q','R','S','T','U','V','W','X','Y','Z']\n",
    "with  webdriver.Chrome('/Users/bernardopaulsen/chromedriver',options=options) as chrome:\n",
    "    for letter in letters:\n",
    "        print(letter)\n",
    "        chrome.get(f\"https://en.wikipedia.org/wiki/Companies_listed_on_the_New_York_Stock_Exchange_({letter})\")\n",
    "        time.sleep(.5)\n",
    "        table   = chrome.find_element(By.XPATH, \"//table\")\n",
    "        stocks  = table.find_elements(By.XPATH, \"//td[2]\") \n",
    "        for stock in stocks:\n",
    "            ticker = stock.text\n",
    "            tickers.append(ticker)\n",
    "        print(tickers[-1])\n",
    "        print(len(tickers))"
   ]
  },
  {
   "cell_type": "raw",
   "metadata": {},
   "source": [
    "with (open(\"nyse.pickle\",\"wb\")) as file:\n",
    "    pickle.dump(tickers.file)"
   ]
  },
  {
   "cell_type": "code",
   "execution_count": 11,
   "metadata": {},
   "outputs": [],
   "source": [
    "with (open(\"nyse.pickle\",\"rb\")) as file:\n",
    "    tickers = pickle.load(file)"
   ]
  },
  {
   "cell_type": "code",
   "execution_count": null,
   "metadata": {},
   "outputs": [],
   "source": []
  },
  {
   "cell_type": "code",
   "execution_count": null,
   "metadata": {},
   "outputs": [],
   "source": []
  }
 ],
 "metadata": {
  "kernelspec": {
   "display_name": "Python 3",
   "language": "python",
   "name": "python3"
  },
  "language_info": {
   "codemirror_mode": {
    "name": "ipython",
    "version": 3
   },
   "file_extension": ".py",
   "mimetype": "text/x-python",
   "name": "python",
   "nbconvert_exporter": "python",
   "pygments_lexer": "ipython3",
   "version": "3.7.6"
  }
 },
 "nbformat": 4,
 "nbformat_minor": 4
}
